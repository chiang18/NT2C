{
 "cells": [
  {
   "cell_type": "code",
   "execution_count": 22,
   "id": "wound-rachel",
   "metadata": {},
   "outputs": [
    {
     "data": {
      "text/html": [
       "\n",
       "      <iframe id=\"tensorboard-frame-e13423983c5806b0\" width=\"100%\" height=\"800\" frameborder=\"0\">\n",
       "      </iframe>\n",
       "      <script>\n",
       "        (function() {\n",
       "          const frame = document.getElementById(\"tensorboard-frame-e13423983c5806b0\");\n",
       "          const url = new URL(\"/\", window.location);\n",
       "          const port = 2233;\n",
       "          if (port) {\n",
       "            url.port = port;\n",
       "          }\n",
       "          frame.src = url;\n",
       "        })();\n",
       "      </script>\n",
       "    "
      ],
      "text/plain": [
       "<IPython.core.display.HTML object>"
      ]
     },
     "metadata": {},
     "output_type": "display_data"
    }
   ],
   "source": [
    "tensorboard --logdir /home/m112040012/vscode/wgan/LDM/vae/log/ --port=2233\n",
    "#ssh -L localhost:2233:localhost:2233 m112040012@192.168.30.3\n",
    "#ssh -NfL 6006:192.168.30.3:6006 m112040012@140.117.30.221  \n",
    "#ssh -N -f -L localhost:16006:localhost:3333 m112040012@192.168.30.3"
   ]
  },
  {
   "cell_type": "code",
   "execution_count": null,
   "id": "finished-dealer",
   "metadata": {},
   "outputs": [],
   "source": []
  },
  {
   "cell_type": "code",
   "execution_count": null,
   "id": "prerequisite-rachel",
   "metadata": {},
   "outputs": [],
   "source": []
  }
 ],
 "metadata": {
  "kernelspec": {
   "display_name": "Python 3",
   "language": "python",
   "name": "python3"
  },
  "language_info": {
   "codemirror_mode": {
    "name": "ipython",
    "version": 3
   },
   "file_extension": ".py",
   "mimetype": "text/x-python",
   "name": "python",
   "nbconvert_exporter": "python",
   "pygments_lexer": "ipython3",
   "version": "3.7.4"
  }
 },
 "nbformat": 4,
 "nbformat_minor": 5
}
