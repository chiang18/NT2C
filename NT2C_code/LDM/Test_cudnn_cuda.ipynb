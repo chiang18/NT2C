{
 "cells": [
  {
   "cell_type": "code",
   "execution_count": 1,
   "metadata": {
    "colab": {
     "base_uri": "https://localhost:8080/"
    },
    "id": "U3xisc0bT-Et",
    "outputId": "d96578a2-bcef-4933-c0ff-4dbfaec6e357"
   },
   "outputs": [
    {
     "name": "stdout",
     "output_type": "stream",
     "text": [
      "Is cuda available? True\n",
      "11.7\n",
      "Is cuDNN version: 8500\n",
      "cuDNN enabled?  True\n"
     ]
    }
   ],
   "source": [
    "import torch\n",
    "\n",
    "print(\"Is cuda available?\", torch.cuda.is_available())\n",
    "print(torch.version.cuda)\n",
    "print(\"Is cuDNN version:\", torch.backends.cudnn.version())\n",
    "print(\"cuDNN enabled? \", torch.backends.cudnn.enabled)"
   ]
  },
  {
   "cell_type": "code",
   "execution_count": 2,
   "metadata": {
    "colab": {
     "base_uri": "https://localhost:8080/"
    },
    "id": "a-b-5aK7T-1o",
    "outputId": "462051ea-8ad4-41b3-ec01-56ff380ef7af"
   },
   "outputs": [
    {
     "name": "stdout",
     "output_type": "stream",
     "text": [
      "GPU 0: NVIDIA GeForce RTX 2080 Ti\n",
      "GPU 1: NVIDIA GeForce RTX 2080 Ti\n",
      "GPU 2: NVIDIA GeForce RTX 2080 Ti\n",
      "GPU 3: NVIDIA GeForce RTX 2080 Ti\n",
      "Result of the tensor operation on GPU: tensor([2., 4.], device='cuda:0')\n",
      "Device of z: cuda:0\n"
     ]
    }
   ],
   "source": [
    "# List all available GPUs\n",
    "if torch.cuda.is_available():\n",
    "    for i in range(torch.cuda.device_count()):\n",
    "        print(f\"GPU {i}: {torch.cuda.get_device_name(i)}\")\n",
    "\n",
    "# Perform a simple operation on the GPU\n",
    "if torch.cuda.is_available():\n",
    "    # Create a tensor and move it to GPU\n",
    "    x = torch.tensor([1.0, 2.0]).cuda()\n",
    "    y = torch.tensor([1.0, 2.0]).cuda()\n",
    "\n",
    "    # Perform a simple operation\n",
    "    z = x + y\n",
    "    print(\"Result of the tensor operation on GPU:\", z)\n",
    "    print(\"Device of z:\", z.device)\n",
    "else:\n",
    "    print(\"CUDA is not available. Operations will run on CPU.\")"
   ]
  },
  {
   "cell_type": "code",
   "execution_count": 3,
   "metadata": {
    "colab": {
     "base_uri": "https://localhost:8080/"
    },
    "id": "hpY90SQ6Umr0",
    "outputId": "ecaf6f03-3898-4e99-bf87-23e317f5341d"
   },
   "outputs": [
    {
     "name": "stderr",
     "output_type": "stream",
     "text": [
      "2024-04-03 10:29:33.098829: I tensorflow/core/platform/cpu_feature_guard.cc:210] This TensorFlow binary is optimized to use available CPU instructions in performance-critical operations.\n",
      "To enable the following instructions: AVX2 AVX512F FMA, in other operations, rebuild TensorFlow with the appropriate compiler flags.\n",
      "2024-04-03 10:29:34.009839: W tensorflow/compiler/tf2tensorrt/utils/py_utils.cc:38] TF-TRT Warning: Could not find TensorRT\n"
     ]
    },
    {
     "name": "stdout",
     "output_type": "stream",
     "text": [
      "Is CUDA available? True\n",
      "Available GPUs: 4 GPUs: [PhysicalDevice(name='/physical_device:GPU:0', device_type='GPU'), PhysicalDevice(name='/physical_device:GPU:1', device_type='GPU'), PhysicalDevice(name='/physical_device:GPU:2', device_type='GPU'), PhysicalDevice(name='/physical_device:GPU:3', device_type='GPU')]\n"
     ]
    }
   ],
   "source": [
    "import tensorflow as tf\n",
    "# Check if CUDA (GPU support) is available\n",
    "print(\"Is CUDA available?\", tf.test.is_built_with_cuda())\n",
    "\n",
    "# Check for GPU devices\n",
    "gpus = tf.config.list_physical_devices('GPU')\n",
    "print(\"Available GPUs:\", len(gpus), \"GPUs:\", gpus)"
   ]
  },
  {
   "cell_type": "code",
   "execution_count": 4,
   "metadata": {
    "colab": {
     "base_uri": "https://localhost:8080/"
    },
    "id": "YF62IrgGU31A",
    "outputId": "7e454c1b-0ea9-4bc0-dec0-e20582cef2fd"
   },
   "outputs": [
    {
     "name": "stdout",
     "output_type": "stream",
     "text": [
      "GPU 0: /physical_device:GPU:0\n",
      "GPU 1: /physical_device:GPU:1\n",
      "GPU 2: /physical_device:GPU:2\n",
      "GPU 3: /physical_device:GPU:3\n",
      "Result of the tensor operation on GPU: [2. 4.]\n",
      "Device of z: /job:localhost/replica:0/task:0/device:GPU:0\n"
     ]
    },
    {
     "name": "stderr",
     "output_type": "stream",
     "text": [
      "2024-04-03 10:29:35.528060: I tensorflow/core/common_runtime/gpu/gpu_device.cc:1928] Created device /job:localhost/replica:0/task:0/device:GPU:0 with 9767 MB memory:  -> device: 0, name: NVIDIA GeForce RTX 2080 Ti, pci bus id: 0000:1b:00.0, compute capability: 7.5\n",
      "2024-04-03 10:29:35.529328: I tensorflow/core/common_runtime/gpu/gpu_device.cc:1928] Created device /job:localhost/replica:0/task:0/device:GPU:1 with 9796 MB memory:  -> device: 1, name: NVIDIA GeForce RTX 2080 Ti, pci bus id: 0000:1e:00.0, compute capability: 7.5\n",
      "2024-04-03 10:29:35.530403: I tensorflow/core/common_runtime/gpu/gpu_device.cc:1928] Created device /job:localhost/replica:0/task:0/device:GPU:2 with 9796 MB memory:  -> device: 2, name: NVIDIA GeForce RTX 2080 Ti, pci bus id: 0000:89:00.0, compute capability: 7.5\n",
      "2024-04-03 10:29:35.530947: I tensorflow/core/common_runtime/gpu/gpu_device.cc:1928] Created device /job:localhost/replica:0/task:0/device:GPU:3 with 9796 MB memory:  -> device: 3, name: NVIDIA GeForce RTX 2080 Ti, pci bus id: 0000:8c:00.0, compute capability: 7.5\n"
     ]
    }
   ],
   "source": [
    "import tensorflow as tf\n",
    "\n",
    "# List all available GPUs\n",
    "gpus = tf.config.list_physical_devices('GPU')\n",
    "if gpus:\n",
    "    for i, gpu in enumerate(gpus):\n",
    "        print(f\"GPU {i}: {gpu.name}\")\n",
    "else:\n",
    "    print(\"No GPUs found, operations will run on CPU.\")\n",
    "\n",
    "# Perform a simple operation on the GPU\n",
    "if gpus:\n",
    "    # TensorFlow automatically uses a GPU if available for operations,\n",
    "    # but you can explicitly set a device to ensure operations run on it.\n",
    "    with tf.device('/GPU:0'):  # This specifies the first GPU as the target device\n",
    "        # Create tensors\n",
    "        x = tf.constant([1.0, 2.0])\n",
    "        y = tf.constant([1.0, 2.0])\n",
    "\n",
    "        # Perform a simple operation\n",
    "        z = x + y\n",
    "\n",
    "    print(\"Result of the tensor operation on GPU:\", z.numpy())\n",
    "    # TensorFlow's Tensor objects have a .device attribute that shows the device placement\n",
    "    print(\"Device of z:\", z.device)\n",
    "else:\n",
    "    print(\"CUDA is not available. Operations will run on CPU.\")"
   ]
  },
  {
   "cell_type": "code",
   "execution_count": 5,
   "metadata": {},
   "outputs": [
    {
     "name": "stderr",
     "output_type": "stream",
     "text": [
      "Using backend: tensorflow\n",
      "Other supported backends: tensorflow.compat.v1, pytorch, jax, paddle.\n",
      "paddle supports more examples now and is recommended.\n",
      "Enable just-in-time compilation with XLA.\n",
      "\n"
     ]
    },
    {
     "ename": "RuntimeError",
     "evalue": "Visible devices cannot be modified after being initialized",
     "output_type": "error",
     "traceback": [
      "\u001b[0;31m---------------------------------------------------------------------------\u001b[0m",
      "\u001b[0;31mRuntimeError\u001b[0m                              Traceback (most recent call last)",
      "Cell \u001b[0;32mIn[5], line 13\u001b[0m\n\u001b[1;32m      6\u001b[0m \u001b[38;5;28;01mfrom\u001b[39;00m \u001b[38;5;21;01mdeepxde\u001b[39;00m\u001b[38;5;21;01m.\u001b[39;00m\u001b[38;5;21;01mbackend\u001b[39;00m \u001b[38;5;28;01mimport\u001b[39;00m tf\n\u001b[1;32m      7\u001b[0m \u001b[38;5;66;03m# Import torch if using backend pytorch\u001b[39;00m\n\u001b[1;32m      8\u001b[0m \u001b[38;5;66;03m# import torch\u001b[39;00m\n\u001b[1;32m      9\u001b[0m \u001b[38;5;66;03m# Import jax.numpy if using backend jax\u001b[39;00m\n\u001b[1;32m     10\u001b[0m \u001b[38;5;66;03m# import jax.numpy as jnp\u001b[39;00m\n\u001b[1;32m     11\u001b[0m \u001b[38;5;66;03m# Import paddle if using backend paddle\u001b[39;00m\n\u001b[1;32m     12\u001b[0m \u001b[38;5;66;03m# import paddle\u001b[39;00m\n\u001b[0;32m---> 13\u001b[0m \u001b[43mtf\u001b[49m\u001b[38;5;241;43m.\u001b[39;49m\u001b[43mconfig\u001b[49m\u001b[38;5;241;43m.\u001b[39;49m\u001b[43mset_visible_devices\u001b[49m\u001b[43m(\u001b[49m\u001b[43m[\u001b[49m\u001b[43m]\u001b[49m\u001b[43m,\u001b[49m\u001b[43m \u001b[49m\u001b[38;5;124;43m'\u001b[39;49m\u001b[38;5;124;43mGPU\u001b[39;49m\u001b[38;5;124;43m'\u001b[39;49m\u001b[43m)\u001b[49m\n\u001b[1;32m     15\u001b[0m \u001b[38;5;28;01mdef\u001b[39;00m \u001b[38;5;21mpde\u001b[39m(x, y):\n\u001b[1;32m     16\u001b[0m     \u001b[38;5;66;03m# Most backends\u001b[39;00m\n\u001b[1;32m     17\u001b[0m     dy_xx \u001b[38;5;241m=\u001b[39m dde\u001b[38;5;241m.\u001b[39mgrad\u001b[38;5;241m.\u001b[39mhessian(y, x)\n",
      "File \u001b[0;32m/opt/anaconda3/envs/py39/lib/python3.9/site-packages/tensorflow/python/framework/config.py:566\u001b[0m, in \u001b[0;36mset_visible_devices\u001b[0;34m(devices, device_type)\u001b[0m\n\u001b[1;32m    533\u001b[0m \u001b[38;5;129m@tf_export\u001b[39m(\u001b[38;5;124m'\u001b[39m\u001b[38;5;124mconfig.set_visible_devices\u001b[39m\u001b[38;5;124m'\u001b[39m,\n\u001b[1;32m    534\u001b[0m            \u001b[38;5;124m'\u001b[39m\u001b[38;5;124mconfig.experimental.set_visible_devices\u001b[39m\u001b[38;5;124m'\u001b[39m)\n\u001b[1;32m    535\u001b[0m \u001b[38;5;129m@deprecation\u001b[39m\u001b[38;5;241m.\u001b[39mdeprecated_endpoints(\u001b[38;5;124m'\u001b[39m\u001b[38;5;124mconfig.experimental.set_visible_devices\u001b[39m\u001b[38;5;124m'\u001b[39m)\n\u001b[1;32m    536\u001b[0m \u001b[38;5;28;01mdef\u001b[39;00m \u001b[38;5;21mset_visible_devices\u001b[39m(devices, device_type\u001b[38;5;241m=\u001b[39m\u001b[38;5;28;01mNone\u001b[39;00m):\n\u001b[1;32m    537\u001b[0m \u001b[38;5;250m  \u001b[39m\u001b[38;5;124;03m\"\"\"Set the list of visible devices.\u001b[39;00m\n\u001b[1;32m    538\u001b[0m \n\u001b[1;32m    539\u001b[0m \u001b[38;5;124;03m  Specifies which `PhysicalDevice` objects are visible to the runtime.\u001b[39;00m\n\u001b[0;32m   (...)\u001b[0m\n\u001b[1;32m    564\u001b[0m \u001b[38;5;124;03m    RuntimeError: Runtime is already initialized.\u001b[39;00m\n\u001b[1;32m    565\u001b[0m \u001b[38;5;124;03m  \"\"\"\u001b[39;00m\n\u001b[0;32m--> 566\u001b[0m   \u001b[43mcontext\u001b[49m\u001b[38;5;241;43m.\u001b[39;49m\u001b[43mcontext\u001b[49m\u001b[43m(\u001b[49m\u001b[43m)\u001b[49m\u001b[38;5;241;43m.\u001b[39;49m\u001b[43mset_visible_devices\u001b[49m\u001b[43m(\u001b[49m\u001b[43mdevices\u001b[49m\u001b[43m,\u001b[49m\u001b[43m \u001b[49m\u001b[43mdevice_type\u001b[49m\u001b[43m)\u001b[49m\n",
      "File \u001b[0;32m/opt/anaconda3/envs/py39/lib/python3.9/site-packages/tensorflow/python/eager/context.py:1751\u001b[0m, in \u001b[0;36mContext.set_visible_devices\u001b[0;34m(self, devices, device_type)\u001b[0m\n\u001b[1;32m   1748\u001b[0m   \u001b[38;5;28;01mreturn\u001b[39;00m\n\u001b[1;32m   1750\u001b[0m \u001b[38;5;28;01mif\u001b[39;00m \u001b[38;5;28mself\u001b[39m\u001b[38;5;241m.\u001b[39m_context_handle \u001b[38;5;129;01mis\u001b[39;00m \u001b[38;5;129;01mnot\u001b[39;00m \u001b[38;5;28;01mNone\u001b[39;00m:\n\u001b[0;32m-> 1751\u001b[0m   \u001b[38;5;28;01mraise\u001b[39;00m \u001b[38;5;167;01mRuntimeError\u001b[39;00m(\n\u001b[1;32m   1752\u001b[0m       \u001b[38;5;124m\"\u001b[39m\u001b[38;5;124mVisible devices cannot be modified after being initialized\u001b[39m\u001b[38;5;124m\"\u001b[39m)\n\u001b[1;32m   1754\u001b[0m \u001b[38;5;28mself\u001b[39m\u001b[38;5;241m.\u001b[39m_visible_device_list \u001b[38;5;241m=\u001b[39m visible_device_list\n",
      "\u001b[0;31mRuntimeError\u001b[0m: Visible devices cannot be modified after being initialized"
     ]
    }
   ],
   "source": [
    "\"\"\"Backend supported: tensorflow.compat.v1, tensorflow, pytorch, jax, paddle\"\"\"\n",
    "import deepxde as dde\n",
    "import matplotlib.pyplot as plt\n",
    "import numpy as np\n",
    "# Import tf if using backend tensorflow.compat.v1 or tensorflow\n",
    "from deepxde.backend import tf\n",
    "# Import torch if using backend pytorch\n",
    "# import torch\n",
    "# Import jax.numpy if using backend jax\n",
    "# import jax.numpy as jnp\n",
    "# Import paddle if using backend paddle\n",
    "# import paddle\n",
    "tf.config.set_visible_devices([], 'GPU')\n",
    "\n",
    "def pde(x, y):\n",
    "    # Most backends\n",
    "    dy_xx = dde.grad.hessian(y, x)\n",
    "    # Backend jax\n",
    "    # dy_xx, _ = dde.grad.hessian(y, x)\n",
    "    # Use tf.sin for backend tensorflow.compat.v1 or tensorflow\n",
    "    return -dy_xx - np.pi ** 2 * tf.sin(np.pi * x)\n",
    "    # Use torch.sin for backend pytorch\n",
    "    # return -dy_xx - np.pi ** 2 * torch.sin(np.pi * x)\n",
    "    # Use jax.numpy.sin for backend jax\n",
    "    # return -dy_xx - np.pi ** 2 * jnp.sin(np.pi * x)\n",
    "    # Use paddle.sin for backend paddle\n",
    "    # return -dy_xx - np.pi ** 2 * paddle.sin(np.pi * x)\n",
    "\n",
    "\n",
    "def boundary(x, on_boundary):\n",
    "    return on_boundary\n",
    "\n",
    "\n",
    "def func(x):\n",
    "    return np.sin(np.pi * x)\n",
    "\n",
    "\n",
    "geom = dde.geometry.Interval(-1, 1)\n",
    "bc = dde.icbc.DirichletBC(geom, func, boundary)\n",
    "data = dde.data.PDE(geom, pde, bc, 16, 2, solution=func, num_test=100)\n",
    "\n",
    "layer_size = [1] + [50] * 3 + [1]\n",
    "activation = \"tanh\"\n",
    "initializer = \"Glorot uniform\"\n",
    "net = dde.nn.FNN(layer_size, activation, initializer)\n",
    "\n",
    "model = dde.Model(data, net)\n",
    "model.compile(\"adam\", lr=0.001, metrics=[\"l2 relative error\"])\n",
    "\n",
    "losshistory, train_state = model.train(iterations=10000)\n",
    "# Optional: Save the model during training.\n",
    "# checkpointer = dde.callbacks.ModelCheckpoint(\n",
    "#     \"model/model\", verbose=1, save_better_only=True\n",
    "# )\n",
    "# Optional: Save the movie of the network solution during training.\n",
    "# ImageMagick (https://imagemagick.org/) is required to generate the movie.\n",
    "# movie = dde.callbacks.MovieDumper(\n",
    "#     \"model/movie\", [-1], [1], period=100, save_spectrum=True, y_reference=func\n",
    "# )\n",
    "# losshistory, train_state = model.train(iterations=10000, callbacks=[checkpointer, movie])\n",
    "\n",
    "dde.saveplot(losshistory, train_state, issave=True, isplot=True)\n",
    "\n",
    "# Optional: Restore the saved model with the smallest training loss\n",
    "# model.restore(f\"model/model-{train_state.best_step}.ckpt\", verbose=1)\n",
    "# Plot PDE residual\n",
    "x = geom.uniform_points(1000, True)\n",
    "y = model.predict(x, operator=pde)\n",
    "plt.figure()\n",
    "plt.plot(x, y)\n",
    "plt.xlabel(\"x\")\n",
    "plt.ylabel(\"PDE residual\")\n",
    "plt.show()\n"
   ]
  },
  {
   "cell_type": "code",
   "execution_count": null,
   "metadata": {},
   "outputs": [],
   "source": []
  }
 ],
 "metadata": {
  "accelerator": "GPU",
  "colab": {
   "gpuType": "V100",
   "provenance": []
  },
  "kernelspec": {
   "display_name": "Python 3",
   "language": "python",
   "name": "python3"
  },
  "language_info": {
   "codemirror_mode": {
    "name": "ipython",
    "version": 3
   },
   "file_extension": ".py",
   "mimetype": "text/x-python",
   "name": "python",
   "nbconvert_exporter": "python",
   "pygments_lexer": "ipython3",
   "version": "3.9.18"
  }
 },
 "nbformat": 4,
 "nbformat_minor": 4
}
