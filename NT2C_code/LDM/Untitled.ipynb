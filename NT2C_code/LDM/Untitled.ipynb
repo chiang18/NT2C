{
 "cells": [
  {
   "cell_type": "code",
   "execution_count": 22,
   "id": "wound-rachel",
   "metadata": {},
   "outputs": [
    {
     "data": {
      "text/html": [
       "\n",
       "      <iframe id=\"tensorboard-frame-e13423983c5806b0\" width=\"100%\" height=\"800\" frameborder=\"0\">\n",
       "      </iframe>\n",
       "      <script>\n",
       "        (function() {\n",
       "          const frame = document.getElementById(\"tensorboard-frame-e13423983c5806b0\");\n",
       "          const url = new URL(\"/\", window.location);\n",
       "          const port = 2233;\n",
       "          if (port) {\n",
       "            url.port = port;\n",
       "          }\n",
       "          frame.src = url;\n",
       "        })();\n",
       "      </script>\n",
       "    "
      ],
      "text/plain": [
       "<IPython.core.display.HTML object>"
      ]
     },
     "metadata": {},
     "output_type": "display_data"
    }
   ],
   "source": [
    "tensorboard --logdir /home/m112040012/vscode/vae_model/vqvae1/log/ --port=1111\n",
    "tensorboard --logdir \"/home/m112040012/vscode/wgan/logs/\" --port=1111\n",
    "#ssh -L localhost:1111:localhost:1111 m112040012@192.168.30.3\n",
    "#ssh -NfL 6006:192.168.30.3:6006 m112040012@140.117.30.221  \n",
    "#ssh -N -f -L localhost:16006:localhost:2233 m112040012@192.168.30.3"
   ]
  },
  {
   "cell_type": "code",
   "execution_count": 2,
   "id": "finished-dealer",
   "metadata": {},
   "outputs": [
    {
     "name": "stdout",
     "output_type": "stream",
     "text": [
      "Cloning into 'diffuser_VQmodel'...\n",
      "remote: Enumerating objects: 43979, done.\u001b[K\n",
      "remote: Counting objects: 100% (168/168), done.\u001b[K\n",
      "remote: Compressing objects: 100% (121/121), done.\u001b[K\n",
      "remote: Total 43979 (delta 78), reused 93 (delta 41), pack-reused 43811\u001b[K\n",
      "Receiving objects: 100% (43979/43979), 36.16 MiB | 20.78 MiB/s, done.\n",
      "Resolving deltas: 100% (31801/31801), done.\n"
     ]
    }
   ],
   "source": [
    "!git clone -b vqgan https://github.com/isamu-isozaki/diffusers.git diffuser_VQmodel\n"
   ]
  },
  {
   "cell_type": "code",
   "execution_count": null,
   "id": "prerequisite-rachel",
   "metadata": {},
   "outputs": [],
   "source": []
  }
 ],
 "metadata": {
  "kernelspec": {
   "display_name": "Python 3 (ipykernel)",
   "language": "python",
   "name": "python3"
  },
  "language_info": {
   "codemirror_mode": {
    "name": "ipython",
    "version": 3
   },
   "file_extension": ".py",
   "mimetype": "text/x-python",
   "name": "python",
   "nbconvert_exporter": "python",
   "pygments_lexer": "ipython3",
   "version": "3.9.18"
  }
 },
 "nbformat": 4,
 "nbformat_minor": 5
}
