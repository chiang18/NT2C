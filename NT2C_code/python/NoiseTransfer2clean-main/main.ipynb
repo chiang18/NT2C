{
 "cells": [
  {
   "cell_type": "markdown",
   "metadata": {},
   "source": [
    "# exact noise\n",
    "mrc: NoiseTransfer2clean-main/script/new_exact_noise_mrc.py\n",
    "\n",
    "jpg: NoiseTransfer2clean-main/script/new_exact_noise_jpg.py\n",
    "\n",
    ".py 吃4個參數:\n",
    "\n",
    "denoise path (topaz_pretrained denoise 10077) \n",
    "\n",
    "raw real data path (10077)\n",
    "\n",
    "noise patch path(empty)\n",
    "\n",
    "plot noise location path (empty)"
   ]
  },
  {
   "cell_type": "code",
   "execution_count": null,
   "metadata": {},
   "outputs": [],
   "source": [
    "!python \"/home/m112040012/vscode/NoiseTransfer2clean-main/script/new_exact_noise_mrc.py\" \\\n",
    "\"/home/m112040012/vscode/data/10077/topaz_jpg_mrc/mrc_topaz_pre_jpg/\"\\\n",
    "\"/home/m112040012/vscode/10077_raw_mrc/\" \\\n",
    "\"/home/m112040012/vscode/data/10077/noise_patches/mrc_new_exact/\" \\\n",
    "\"/home/m112040012/vscode/data/10077/draw_noise/draw_noise_mrc_new/\""
   ]
  },
  {
   "cell_type": "markdown",
   "metadata": {},
   "source": [
    "# train wgan\n",
    "\n",
    "NoiseTransfer2clean-main/noise_synthesizer/pytorch-wgan-master/main_savemrc_320.py"
   ]
  },
  {
   "cell_type": "code",
   "execution_count": null,
   "metadata": {},
   "outputs": [],
   "source": [
    "!python \"/home/m112040012/vscode/NoiseTransfer2clean-main/noise_synthesizer/pytorch-wgan-master/main_savemrc_320.py\" \\\n",
    "--dataset custom \\\n",
    "--batch_size 64 \\\n",
    "--model WGAN-GP \\\n",
    "--dataroot \"/home/m112040012/vscode/data/10077/noise_patches/jpg_new_exact/\"  \\\n",
    "--cuda True\\\n",
    "--generator_iters 20000 \\\n",
    "--o nn/"
   ]
  },
  {
   "cell_type": "markdown",
   "metadata": {},
   "source": [
    "# Generate wgan noise"
   ]
  },
  {
   "cell_type": "code",
   "execution_count": null,
   "metadata": {},
   "outputs": [],
   "source": [
    "CUDA_VISIBLE_DEVICES=0,1,2\n",
    "!python /home/m112040012/vscode/NoiseTransfer2clean-main/noise_synthesizer/pytorch-wgan-master/main_savemrc_320.py \\\n",
    "--dataset custom \\\n",
    "--batch_size 64 \\\n",
    "--model WGAN-GP \\\n",
    "--dataroot \"/home/m112040012/vscode/data/10077/noise_patches/jpg_new_exact/\"  \\\n",
    "--cuda True \\\n",
    "--is_train False \\\n",
    "--noise_num 156000 \\\n",
    "--load_D \"/home/m112040012/vscode/wgan/test_jpg/model/discriminator.pkl\"\\\n",
    "--load_G \"/home/m112040012/vscode/wgan/test_jpg/model/generator.pkl\" \\\n",
    "--o \"/home/m112040012/vscode/wgan/15600noiseimg_jpgtojpg_new_wgan/\""
   ]
  },
  {
   "cell_type": "markdown",
   "metadata": {},
   "source": [
    "# noise re-weighting\n",
    "\n",
    "NoiseTransfer2clean-main/script/add_norm_noise_256.py\"\n",
    "\n",
    ".py 吃4個參數:\n",
    "\n",
    "clean path (simulation data)\n",
    "\n",
    "noise path (wgan noise data)\n",
    "\n",
    "noisy path (simulation data)\n",
    "\n",
    "re-weighting path (clean + noise) empty"
   ]
  },
  {
   "cell_type": "code",
   "execution_count": null,
   "metadata": {},
   "outputs": [],
   "source": [
    "!python \\\n",
    "\"/home/m112040012/vscode/NoiseTransfer2clean-main/script/add_norm_noise_256.py\" \\\n",
    "\"/home/m112040012/vscode/data/3000_insilicoTEM_pair/256/clean/\" \\\n",
    "\"/home/m112040012/vscode/wgan/15600noiseimg_jpgtojpg_new_wgan/\" \\\n",
    "\"/home/m112040012/vscode/data/3000_insilicoTEM_pair/256/noise/\"\\\n",
    "\"/home/m112040012/vscode/data/3000_insilicoTEM_pair/256/syn/\""
   ]
  },
  {
   "cell_type": "markdown",
   "metadata": {},
   "source": [
    "# Denoiser training\n",
    "\n",
    "-a re-weighting path\n",
    "\n",
    "-b clean path"
   ]
  },
  {
   "cell_type": "code",
   "execution_count": null,
   "metadata": {},
   "outputs": [],
   "source": [
    "!python /home/m112040012/vscode/NoiseTransfer2clean-main/denoiser/denoise_cmd.py \\\n",
    "-a \"/home/m112040012/vscode/data/3000_insilicoTEM_pair/256/syn/\" \\\n",
    "-b \"/home/m112040012/vscode/data/3000_insilicoTEM_pair/256/clean/\" \\\n",
    "--num-epochs 10 \\\n",
    "--batch-size 32 \\\n",
    "--crop 256 \\\n",
    "--save-prefix /home/m112040012/vscode/fine_denoiser_model/test/model/model \\\n",
    "--arch 'unet' \\\n",
    "--holdout 0.05 \\\n",
    "--lr 0.001\\\n",
    "--format jpg \\\n",
    "--normalize \\\n",
    "-o nn \\\n",
    "-d 1 \\ "
   ]
  },
  {
   "cell_type": "markdown",
   "metadata": {},
   "source": [
    "# Use pretrained model (denoise)"
   ]
  },
  {
   "cell_type": "code",
   "execution_count": null,
   "metadata": {},
   "outputs": [],
   "source": [
    "CUDA_VISIBLE_DEVICES=0,1,2\n",
    "!python /home/m112040012/vscode/NoiseTransfer2clean-main/denoiser/denoise_cmd.py \\\n",
    "/home/m112040012/vscode/data/10077/topaz_jpg_mrc/preprocess_jpg/* \\\n",
    "--device 1 \\\n",
    "--normalize \\\n",
    "--format jpg \\\n",
    "--output \"/home/m112040012/vscode/fine_denoiser_model/test/pre/\"\\\n",
    "-m \"/home/m112040012/vscode/fine_denoiser_model/test/model/model_epoch10.sav\"\\\n",
    "-s 800 \\\n",
    "-p 128"
   ]
  },
  {
   "cell_type": "markdown",
   "metadata": {},
   "source": [
    "# other (4096 * 4096 mrc > 256 * 256 jpg) \n",
    "NoiseTransfer2clean-main/script/imcrop_mrc_256_jpg.py\n",
    "\n",
    ".py 吃2個參數\n",
    "\n",
    "mrc data path \n",
    "\n",
    "jpg data path (empty) "
   ]
  },
  {
   "cell_type": "code",
   "execution_count": null,
   "metadata": {},
   "outputs": [],
   "source": [
    "!python \\\n",
    "\"/home/m112040012/vscode/NoiseTransfer2clean-main/script/imcrop_mrc_256_jpg.py\" \\\n",
    "\"/home/m112040012/vscode/data/aspire/4096/clean/\" \\\n",
    "\"/home/m112040012/vscode/test/b/\""
   ]
  }
 ],
 "metadata": {
  "kernelspec": {
   "display_name": "Python 3 (ipykernel)",
   "language": "python",
   "name": "python3"
  },
  "language_info": {
   "codemirror_mode": {
    "name": "ipython",
    "version": 3
   },
   "file_extension": ".py",
   "mimetype": "text/x-python",
   "name": "python",
   "nbconvert_exporter": "python",
   "pygments_lexer": "ipython3",
   "version": "3.6.8"
  }
 },
 "nbformat": 4,
 "nbformat_minor": 2
}
